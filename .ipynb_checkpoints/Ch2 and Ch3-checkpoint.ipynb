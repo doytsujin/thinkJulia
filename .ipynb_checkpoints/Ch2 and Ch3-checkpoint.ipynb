{
 "cells": [
  {
   "cell_type": "code",
   "execution_count": 3,
   "metadata": {},
   "outputs": [
    {
     "name": "stdout",
     "output_type": "stream",
     "text": [
      "5\n",
      "10\n",
      "25\n",
      "523.5987755982987\n",
      "14.969999999999999\n",
      "62.97\n",
      "38.1\n"
     ]
    }
   ],
   "source": [
    "## Exercise 2-1\n",
    "println(5)\n",
    "x = 5\n",
    "println(x + 5)\n",
    "\n",
    "## Exercise 2-2\n",
    "x = y = 5 # assigns x and y to 5\n",
    "x % y; # semicolon at the end of the statement prevents output in REPL (interactive mode)\n",
    "println(5x) # is 5 * x\n",
    "\n",
    "## Exercise 2-3\n",
    "function sphereVolume(radius)\n",
    "  return 4/3 * (pi * radius^3)\n",
    "end\n",
    "\n",
    "println(sphereVolume(5))\n",
    "\n",
    "function discountedPrice(price, discount)\n",
    "  return price * (1 - discount);\n",
    "end\n",
    "\n",
    "println(discountedPrice(24.95, 0.4))\n",
    "\n",
    "function shippingCost(numCopies)\n",
    "  return numCopies > 0 ? 3 + 0.75numCopies : 0\n",
    "end\n",
    "\n",
    "println(shippingCost(60) + discountedPrice(24.95, 0.4))\n",
    "\n",
    "function runTimer(miles)\n",
    "  easyPace = 60 * 8 + 15\n",
    "  fastPace = 60 * 7 + 12\n",
    "  return (miles > 2 ? 2easyPace + (miles - 2) * fastPace : 2easyPace) / 60\n",
    "end\n",
    "\n",
    "println(runTimer(5))\n"
   ]
  },
  {
   "cell_type": "code",
   "execution_count": 9,
   "metadata": {},
   "outputs": [
    {
     "data": {
      "text/plain": [
       "38.1"
      ]
     },
     "execution_count": 9,
     "metadata": {},
     "output_type": "execute_result"
    }
   ],
   "source": [
    "parse(Float64, \"38.1\") # string to number conversion"
   ]
  },
  {
   "cell_type": "code",
   "execution_count": 10,
   "metadata": {},
   "outputs": [
    {
     "data": {
      "text/plain": [
       "38"
      ]
     },
     "execution_count": 10,
     "metadata": {},
     "output_type": "execute_result"
    }
   ],
   "source": [
    "trunc(Int64, runTimer(5))"
   ]
  },
  {
   "cell_type": "code",
   "execution_count": 11,
   "metadata": {},
   "outputs": [
    {
     "data": {
      "text/plain": [
       "1.0"
      ]
     },
     "execution_count": 11,
     "metadata": {},
     "output_type": "execute_result"
    }
   ],
   "source": [
    "log10(10)"
   ]
  },
  {
   "cell_type": "code",
   "execution_count": 12,
   "metadata": {},
   "outputs": [
    {
     "data": {
      "text/plain": [
       "0.9932517730102834"
      ]
     },
     "execution_count": 12,
     "metadata": {},
     "output_type": "execute_result"
    }
   ],
   "source": [
    "log(2.7)"
   ]
  },
  {
   "cell_type": "code",
   "execution_count": 13,
   "metadata": {},
   "outputs": [
    {
     "data": {
      "text/plain": [
       "0.6989700043360189"
      ]
     },
     "execution_count": 13,
     "metadata": {},
     "output_type": "execute_result"
    }
   ],
   "source": [
    "log10(5)"
   ]
  },
  {
   "cell_type": "code",
   "execution_count": 14,
   "metadata": {},
   "outputs": [
    {
     "ename": "UndefVarError",
     "evalue": "UndefVarError: log15 not defined",
     "output_type": "error",
     "traceback": [
      "UndefVarError: log15 not defined",
      "",
      "Stacktrace:",
      " [1] top-level scope at In[14]:1"
     ]
    }
   ],
   "source": [
    "log15(10)"
   ]
  },
  {
   "cell_type": "code",
   "execution_count": 25,
   "metadata": {},
   "outputs": [
    {
     "name": "stdout",
     "output_type": "stream",
     "text": [
      "0.7853981633974483\n"
     ]
    },
    {
     "data": {
      "text/plain": [
       "degToRad (generic function with 1 method)"
      ]
     },
     "execution_count": 25,
     "metadata": {},
     "output_type": "execute_result"
    }
   ],
   "source": [
    "println(degToRad(45))\n",
    "function degToRad(deg)\n",
    "    return deg / 180 * pi\n",
    "end"
   ]
  },
  {
   "cell_type": "code",
   "execution_count": 26,
   "metadata": {},
   "outputs": [
    {
     "data": {
      "text/plain": [
       "0.7071067811865475"
      ]
     },
     "execution_count": 26,
     "metadata": {},
     "output_type": "execute_result"
    }
   ],
   "source": [
    "sin(degToRad(45))"
   ]
  },
  {
   "cell_type": "code",
   "execution_count": 17,
   "metadata": {},
   "outputs": [
    {
     "ename": "MethodError",
     "evalue": "MethodError: no method matching log(::typeof(exp))\nClosest candidates are:\n  log(!Matched::Float16) at math.jl:1018\n  log(!Matched::Complex{Float16}) at math.jl:1019\n  log(!Matched::Float64) at special/log.jl:254\n  ...",
     "output_type": "error",
     "traceback": [
      "MethodError: no method matching log(::typeof(exp))\nClosest candidates are:\n  log(!Matched::Float16) at math.jl:1018\n  log(!Matched::Complex{Float16}) at math.jl:1019\n  log(!Matched::Float64) at special/log.jl:254\n  ...",
      "",
      "Stacktrace:",
      " [1] top-level scope at In[17]:1"
     ]
    }
   ],
   "source": [
    "exp(log(exp))"
   ]
  },
  {
   "cell_type": "code",
   "execution_count": 21,
   "metadata": {},
   "outputs": [
    {
     "data": {
      "text/plain": [
       "2.718281828459045"
      ]
     },
     "execution_count": 21,
     "metadata": {},
     "output_type": "execute_result"
    }
   ],
   "source": [
    "exp(1)"
   ]
  },
  {
   "cell_type": "code",
   "execution_count": 22,
   "metadata": {},
   "outputs": [
    {
     "data": {
      "text/plain": [
       "0.7853981633974483"
      ]
     },
     "execution_count": 22,
     "metadata": {},
     "output_type": "execute_result"
    }
   ],
   "source": [
    "xFn = degToRad\n",
    "xFn(45)"
   ]
  },
  {
   "cell_type": "code",
   "execution_count": 29,
   "metadata": {},
   "outputs": [
    {
     "name": "stdout",
     "output_type": "stream",
     "text": [
      "this is a new function\n"
     ]
    }
   ],
   "source": [
    "function newFunction()\n",
    "    println(\"this is a new function\")\n",
    "end\n",
    "newFunction()"
   ]
  },
  {
   "cell_type": "code",
   "execution_count": 30,
   "metadata": {},
   "outputs": [
    {
     "name": "stdout",
     "output_type": "stream",
     "text": [
      "this is a new function\n"
     ]
    }
   ],
   "source": [
    "x = newFunction()\n",
    "x"
   ]
  },
  {
   "cell_type": "code",
   "execution_count": 35,
   "metadata": {},
   "outputs": [
    {
     "data": {
      "text/plain": [
       "11"
      ]
     },
     "execution_count": 35,
     "metadata": {},
     "output_type": "execute_result"
    }
   ],
   "source": [
    "length(\"some string\")"
   ]
  },
  {
   "cell_type": "code",
   "execution_count": 32,
   "metadata": {},
   "outputs": [
    {
     "ename": "ArgumentError",
     "evalue": "ArgumentError: `nothing` should not be printed; use `show`, `repr`, or custom output instead.",
     "output_type": "error",
     "traceback": [
      "ArgumentError: `nothing` should not be printed; use `show`, `repr`, or custom output instead.",
      "",
      "Stacktrace:",
      " [1] print(::IJulia.IJuliaStdio{Base.PipeEndpoint}, ::Nothing) at ./show.jl:566",
      " [2] print(::IJulia.IJuliaStdio{Base.PipeEndpoint}, ::Nothing, ::Char) at ./strings/io.jl:42",
      " [3] println(::IJulia.IJuliaStdio{Base.PipeEndpoint}, ::Nothing) at ./strings/io.jl:69",
      " [4] println(::Nothing) at ./coreio.jl:4",
      " [5] top-level scope at In[32]:1"
     ]
    }
   ],
   "source": [
    "println(x)"
   ]
  },
  {
   "cell_type": "code",
   "execution_count": 36,
   "metadata": {},
   "outputs": [
    {
     "data": {
      "text/plain": [
       "\"                                                                 monty\""
      ]
     },
     "execution_count": 36,
     "metadata": {},
     "output_type": "execute_result"
    }
   ],
   "source": [
    "function rightJustify(str)\n",
    "    return \" \"^(70 - length(str)) * str\n",
    "end\n",
    "rightJustify(\"monty\")"
   ]
  },
  {
   "cell_type": "code",
   "execution_count": 38,
   "metadata": {},
   "outputs": [
    {
     "name": "stdout",
     "output_type": "stream",
     "text": [
      "cool\n",
      "cool\n"
     ]
    }
   ],
   "source": [
    "function printSpam(str)\n",
    "    println(str)\n",
    "end\n",
    "function dotTwice(fn, arg)\n",
    "    fn(arg)\n",
    "    fn(arg)\n",
    "end\n",
    "dotTwice(printSpam, \"cool\")"
   ]
  },
  {
   "cell_type": "code",
   "execution_count": null,
   "metadata": {},
   "outputs": [],
   "source": []
  }
 ],
 "metadata": {
  "kernelspec": {
   "display_name": "Julia 1.0.3 (4 threads)",
   "language": "julia",
   "name": "julia-1.0k"
  },
  "language_info": {
   "file_extension": ".jl",
   "mimetype": "application/julia",
   "name": "julia",
   "version": "1.0.3"
  }
 },
 "nbformat": 4,
 "nbformat_minor": 2
}
